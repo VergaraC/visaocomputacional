{
  "nbformat": 4,
  "nbformat_minor": 0,
  "metadata": {
    "colab": {
      "name": "Aula 00 - Informações Gerais.ipynb",
      "provenance": [],
      "collapsed_sections": []
    },
    "kernelspec": {
      "name": "python3",
      "display_name": "Python 3"
    },
    "language_info": {
      "name": "python"
    }
  },
  "cells": [
    {
      "cell_type": "markdown",
      "metadata": {
        "id": "X_ade0Ntji0z"
      },
      "source": [
        "**Aula 00 - INFORMAÇÕES GERAIS**\n",
        "\n",
        "**Objetivos:**\n",
        "\n",
        "*   conhecer o processo de uso da OpenCV em notebooks Python no Google Colab\n",
        "*   conhecer funções essenciais da OpenCV\n",
        "\n"
      ]
    },
    {
      "cell_type": "markdown",
      "metadata": {
        "id": "cR8NpVEBkLo0"
      },
      "source": [
        "O primeiro passo é importar o módulo **cv2** (já instalado no Google Colab). Como vamos visualizar imagens, importamos também o módulo **matplotlib** e configuramos sua visualização para inline (dentro no notebook)."
      ]
    },
    {
      "cell_type": "code",
      "metadata": {
        "id": "pJEx-tDAhY-L"
      },
      "source": [
        "import cv2\n",
        "import matplotlib.pyplot as plt\n",
        "%matplotlib inline"
      ],
      "execution_count": 1,
      "outputs": []
    },
    {
      "cell_type": "markdown",
      "metadata": {
        "id": "Plm9GAnzknt2"
      },
      "source": [
        "Normalmente, toda pipeline de processamento em OpenCV começa com uma a**quisição (ou captura)** de imagem ou vídeo. Para isto, é necessário definir um ponto de aquisição ou captura."
      ]
    },
    {
      "cell_type": "code",
      "metadata": {
        "id": "l7DBjoyrhkGW"
      },
      "source": [
        "from google.colab import files\n",
        "uploaded=files.upload()"
      ],
      "execution_count": null,
      "outputs": []
    },
    {
      "cell_type": "markdown",
      "metadata": {
        "id": "ZlOg-rO2lMEp"
      },
      "source": [
        "Definido o ponto de aquisição, fazemos a leitura da imagem e eventuais processamentos. No caso da imagem abaixo, que está no sistema de cores BGR (RGB invertido), fizemos sua conversão para níveis de cinza (grayscale)."
      ]
    },
    {
      "cell_type": "code",
      "metadata": {
        "id": "MoV0nywvhqn5"
      },
      "source": [
        "img=cv2.imread('lena.jpg')\n",
        "gray_img=cv2.cvtColor(img,cv2.COLOR_BGR2GRAY)"
      ],
      "execution_count": 4,
      "outputs": []
    },
    {
      "cell_type": "markdown",
      "metadata": {
        "id": "B6zb0zbsloKo"
      },
      "source": [
        "Finalmente, a imagem pode ser exibida... eventualmente, pode ser necessário o uso de **mapas de cores (colormaps)** específicos."
      ]
    },
    {
      "cell_type": "code",
      "metadata": {
        "id": "ZYNS6M5ah56B"
      },
      "source": [
        "fig,ax=plt.subplots(ncols=2)\n",
        "ax[0].imshow(img[...,::-1])  #BGR para RGB\n",
        "ax[0].set_title('Imagem Original')\n",
        "ax[1].imshow(gray_img,cmap=plt.cm.gray)\n",
        "ax[1].set_title('Imagem em Níveis de Cinza')\n",
        "plt.show()"
      ],
      "execution_count": null,
      "outputs": []
    },
    {
      "cell_type": "markdown",
      "metadata": {
        "id": "_Q5cKQV2l5xj"
      },
      "source": [
        "**EXERCÍCIO**\n",
        "\n",
        "Converter a imagem img para binária (branco e preto), armazená-la numa nova variável e fazer sua exibição.\n"
      ]
    },
    {
      "cell_type": "code",
      "metadata": {
        "id": "uIxK6Kw_mRog"
      },
      "source": [
        "#faça sua implementação aqui\n",
        "#Referência: https://docs.opencv.org/4.5.2/d6/d00/tutorial_py_root.html"
      ],
      "execution_count": null,
      "outputs": []
    }
  ]
}